{
  "nbformat": 4,
  "nbformat_minor": 0,
  "metadata": {
    "colab": {
      "provenance": [],
      "authorship_tag": "ABX9TyNW2h36wn5OJCaWCeU4hh1l",
      "include_colab_link": true
    },
    "kernelspec": {
      "name": "python3",
      "display_name": "Python 3"
    },
    "language_info": {
      "name": "python"
    }
  },
  "cells": [
    {
      "cell_type": "markdown",
      "metadata": {
        "id": "view-in-github",
        "colab_type": "text"
      },
      "source": [
        "<a href=\"https://colab.research.google.com/github/AlishaHong/PYTHON_PRACTICE/blob/main/%EB%B0%98%EB%B3%B5%EA%B0%80%EB%8A%A5%EC%9E%90%EB%A3%8C%ED%98%95.ipynb\" target=\"_parent\"><img src=\"https://colab.research.google.com/assets/colab-badge.svg\" alt=\"Open In Colab\"/></a>"
      ]
    },
    {
      "cell_type": "markdown",
      "source": [
        "###컬렉션\n",
        "여러값을 하나의 이름으로 묶어서 관리하는 자료형\n",
        "- 리스트(대괄호, 중복가능, 수정가능, 순서있음)\n",
        "- 튜플(소괄호, 중복가능, 수정불가, 순서있음)\n",
        "- 세트(중괄호, 중복불가, 수정가능, 순서없음)\n",
        "- 딕셔너리(중괄호, 키와 밸류, 수정가능)"
      ],
      "metadata": {
        "id": "zIYWQ0UFC5lF"
      }
    },
    {
      "cell_type": "markdown",
      "source": [
        "###리스트"
      ],
      "metadata": {
        "id": "8a0PurAnDM8m"
      }
    },
    {
      "cell_type": "code",
      "execution_count": null,
      "metadata": {
        "colab": {
          "base_uri": "https://localhost:8080/"
        },
        "id": "hv310LjUC0cj",
        "outputId": "efc358b1-2ce5-48c0-9950-07a9e32baaeb"
      },
      "outputs": [
        {
          "output_type": "execute_result",
          "data": {
            "text/plain": [
              "['hello', 3.14]"
            ]
          },
          "metadata": {},
          "execution_count": 14
        }
      ],
      "source": [
        "# 여러 타입의 자료형 저장 가능\n",
        "li = [1,3.14,\"hello\"]\n",
        "\n",
        "# 인덱싱\n",
        "li[0]\n",
        "# 슬라이싱(마지막 정수는 미포함)\n",
        "li[0:3]\n",
        "li[::-1]\n",
        "li[:-2:-1]\n",
        "li[:-3:-1]"
      ]
    },
    {
      "cell_type": "code",
      "source": [
        "# 리스트 추가 - append\n",
        "li.append(100)\n",
        "li  #마지막에 추가\n",
        "\n",
        "# 리스트 추가 - insert\n",
        "li.insert(0,1000)\n",
        "print(li)   # 원하는 곳에 추가 가능\n",
        "\n",
        "# 리스트 삭제 - pop\n",
        "poped = li.pop(len(li)-1)   # 마지막 요소 삭제\n",
        "print(li)\n",
        "print(poped)    #삭제된 요소를 반환한다\n",
        "\n",
        "# 리스트 삭제 - del\n",
        "del li[0]\n",
        "li\n",
        "\n",
        "li.append(100)\n",
        "li.append(101)\n",
        "\n",
        "# 리스트 삭제 - remove\n",
        "li.remove(100)\n",
        "li\n",
        "\n",
        "# 리스트 삭제 - clear\n",
        "li.clear()\n",
        "li"
      ],
      "metadata": {
        "colab": {
          "base_uri": "https://localhost:8080/"
        },
        "id": "LkKTzty8Dsbt",
        "outputId": "775067ca-4ce2-4c7f-e586-73910f1fd483"
      },
      "execution_count": null,
      "outputs": [
        {
          "output_type": "stream",
          "name": "stdout",
          "text": [
            "[1000, 101, 101, 100]\n",
            "[1000, 101, 101]\n",
            "100\n"
          ]
        },
        {
          "output_type": "execute_result",
          "data": {
            "text/plain": [
              "[]"
            ]
          },
          "metadata": {},
          "execution_count": 26
        }
      ]
    },
    {
      "cell_type": "markdown",
      "source": [
        "### 리스트 함수"
      ],
      "metadata": {
        "id": "mVbfO1I7L5re"
      }
    },
    {
      "cell_type": "code",
      "source": [
        "# sort - 리스트 정렬\n",
        "# 랜덤으로 리스트에 숫자를 추가하여 정렬되지 않은 리스트 생성 후 정렬하기\n",
        "import random\n",
        "\n",
        "random_list = random.sample(range(10),10)\n",
        "print(random_list)\n",
        "random_list.sort()\n",
        "print(random_list)"
      ],
      "metadata": {
        "colab": {
          "base_uri": "https://localhost:8080/"
        },
        "id": "CD9BJTJCL5M2",
        "outputId": "2f29afb1-eb9f-44c7-82c5-c53caf39d1fb"
      },
      "execution_count": null,
      "outputs": [
        {
          "output_type": "stream",
          "name": "stdout",
          "text": [
            "[3, 6, 2, 0, 1, 9, 4, 7, 5, 8]\n",
            "[0, 1, 2, 3, 4, 5, 6, 7, 8, 9]\n"
          ]
        }
      ]
    },
    {
      "cell_type": "code",
      "source": [
        "# sort와 sorted\n",
        "\n",
        "#1. sort는 리스트.sort()의 형식\n",
        "# 정렬된 값을 반환하는 개념이 아니라 원본을 변경\n",
        "\n",
        "li = [1,3,2,5,2]\n",
        "li2 = li.sort()\n",
        "print(li)   #원본정렬완료\n",
        "print(li2) #반환값없음\n",
        "\n",
        "\n",
        "#2. sorted는 sorted(리스트)의 형식\n",
        "# 정렬된 값을 반환하고 원본은 유지된다.\n",
        "\n",
        "li = [1,3,2,5,2]\n",
        "li2 = sorted(li)\n",
        "print(li)   #원본유지\n",
        "print(li2) #반환값있음"
      ],
      "metadata": {
        "colab": {
          "base_uri": "https://localhost:8080/"
        },
        "id": "ErOi8FFwO-vC",
        "outputId": "35c50436-69e9-4274-dd78-cf9a63237007"
      },
      "execution_count": null,
      "outputs": [
        {
          "output_type": "stream",
          "name": "stdout",
          "text": [
            "[1, 2, 2, 3, 5]\n",
            "None\n",
            "[1, 3, 2, 5, 2]\n",
            "[1, 2, 2, 3, 5]\n"
          ]
        }
      ]
    },
    {
      "cell_type": "code",
      "source": [
        "# reverse - 리스트 뒤집기\n",
        "# 하나씩 pop 하여 반환된 값을 새로운 리스트에 순서대로 저장해도 뒤집힌다.\n",
        "random_list.reverse()\n",
        "print(random_list)"
      ],
      "metadata": {
        "colab": {
          "base_uri": "https://localhost:8080/"
        },
        "id": "BOr8eoq9NVjg",
        "outputId": "5736df8b-50c9-4bbc-b99b-9dfa10946811"
      },
      "execution_count": null,
      "outputs": [
        {
          "output_type": "stream",
          "name": "stdout",
          "text": [
            "[9, 8, 7, 6, 5, 4, 3, 2, 1, 0]\n"
          ]
        }
      ]
    },
    {
      "cell_type": "code",
      "source": [
        "# index - 특정 인덱스의 값 반환\n",
        "\n",
        "random_list.index(5)"
      ],
      "metadata": {
        "colab": {
          "base_uri": "https://localhost:8080/"
        },
        "id": "h_V2IVElOCfh",
        "outputId": "bcc937a6-e08c-47bf-9ea4-caaafb59cd95"
      },
      "execution_count": null,
      "outputs": [
        {
          "output_type": "execute_result",
          "data": {
            "text/plain": [
              "4"
            ]
          },
          "metadata": {},
          "execution_count": 21
        }
      ]
    },
    {
      "cell_type": "code",
      "source": [
        "# extend - 리스트 확장\n",
        "\n",
        "li = [1,2,3]\n",
        "li.extend([4,5,6])\n",
        "li  #extend는 리스트의 값을 추가\n",
        "li.append([4,5,6])\n",
        "li  #append는 리스트 자체를 추가\n",
        "\n",
        "# list의 append 함수로는 1개의 인자만 추가할 수 있기 때문에 여러개를 붙일때는 extend가 유용해 보임\n",
        "# 리스트 자체를 append하는건 가능!"
      ],
      "metadata": {
        "colab": {
          "base_uri": "https://localhost:8080/"
        },
        "id": "I-bXNgxGOKIv",
        "outputId": "99cad6e3-e385-4b66-b1a9-dfcd607d9150"
      },
      "execution_count": null,
      "outputs": [
        {
          "output_type": "execute_result",
          "data": {
            "text/plain": [
              "[1, 2, 3, 4, 5, 6, [4, 5, 6]]"
            ]
          },
          "metadata": {},
          "execution_count": 30
        }
      ]
    },
    {
      "cell_type": "markdown",
      "source": [
        "### 튜플"
      ],
      "metadata": {
        "id": "011eUN_LQAMk"
      }
    },
    {
      "cell_type": "code",
      "source": [
        "t = (1,2,3)\n",
        "t[0]"
      ],
      "metadata": {
        "colab": {
          "base_uri": "https://localhost:8080/"
        },
        "id": "JcH5klLwP_vJ",
        "outputId": "742031b3-1c17-4762-e0c9-73248928d316"
      },
      "execution_count": null,
      "outputs": [
        {
          "output_type": "execute_result",
          "data": {
            "text/plain": [
              "1"
            ]
          },
          "metadata": {},
          "execution_count": 32
        }
      ]
    },
    {
      "cell_type": "markdown",
      "source": [
        "### 세트\n",
        "수학의 집합개념을 구현\n",
        "중복된 값 저장이 불가능 하다는 특징을 활용해 중복제거용으로 사용"
      ],
      "metadata": {
        "id": "FE8yDolGSFsi"
      }
    },
    {
      "cell_type": "code",
      "source": [
        "s = {1,1,2,3,4}\n",
        "s   #중복불가"
      ],
      "metadata": {
        "colab": {
          "base_uri": "https://localhost:8080/"
        },
        "id": "TyABsheiSReu",
        "outputId": "9623445e-4c6a-4f70-bb14-3c0cbacf1864"
      },
      "execution_count": null,
      "outputs": [
        {
          "output_type": "execute_result",
          "data": {
            "text/plain": [
              "{1, 2, 3, 4}"
            ]
          },
          "metadata": {},
          "execution_count": 39
        }
      ]
    },
    {
      "cell_type": "code",
      "source": [
        "#리스트의 중복제거\n",
        "li = [1,1,2,3,4]\n",
        "li = list(set(li))\n",
        "li"
      ],
      "metadata": {
        "colab": {
          "base_uri": "https://localhost:8080/"
        },
        "id": "Z5zp1a5nSYsx",
        "outputId": "d6e32a8c-76ce-42cf-eed2-bd3bc72a1190"
      },
      "execution_count": null,
      "outputs": [
        {
          "output_type": "execute_result",
          "data": {
            "text/plain": [
              "[1, 2, 3, 4]"
            ]
          },
          "metadata": {},
          "execution_count": 40
        }
      ]
    },
    {
      "cell_type": "code",
      "source": [
        "#세트 요소 추가\n",
        "s = {1,2,3,4,5}\n",
        "s.add(6)\n",
        "print(s)"
      ],
      "metadata": {
        "colab": {
          "base_uri": "https://localhost:8080/"
        },
        "id": "gkPYejhbTHxZ",
        "outputId": "319c6b72-a89f-4e09-a5b7-1c09ec30e9dd"
      },
      "execution_count": null,
      "outputs": [
        {
          "output_type": "stream",
          "name": "stdout",
          "text": [
            "{1, 2, 3, 4, 5, 6}\n"
          ]
        }
      ]
    },
    {
      "cell_type": "code",
      "source": [
        "#세트 요소 삭제 - remove\n",
        "s.remove(6)\n",
        "print(s)\n",
        "\n",
        "#세트 요소 삭제 - discard\n",
        "s.discard(5)\n",
        "print(s)\n",
        "\n",
        "#remove와 discard의 차이\n",
        "# s.remove(6) #없는값을 삭제하려하면 에러발생\n",
        "s.discard(6)  #오류발생x"
      ],
      "metadata": {
        "colab": {
          "base_uri": "https://localhost:8080/"
        },
        "id": "w7KSvYqmSjGG",
        "outputId": "8ab80fe7-1c52-40d9-d1bb-35449ca08b67"
      },
      "execution_count": null,
      "outputs": [
        {
          "output_type": "stream",
          "name": "stdout",
          "text": [
            "{1, 2, 3, 4, 5, 6}\n",
            "{1, 2, 3, 4, 5}\n",
            "{1, 2, 3, 4}\n"
          ]
        }
      ]
    },
    {
      "cell_type": "markdown",
      "source": [
        "### 딕셔너리"
      ],
      "metadata": {
        "id": "lJ1DyZGfTLuK"
      }
    },
    {
      "cell_type": "code",
      "source": [
        "dict = {'a' : 1, 'b' : 2, 'c' : 3}  #{키1 : 값1 , 키2 : 값2}\n",
        "print(dict)\n",
        "\n",
        "print(dict['a']) # dict[키] == 값"
      ],
      "metadata": {
        "colab": {
          "base_uri": "https://localhost:8080/"
        },
        "id": "nJmhRalTTLQe",
        "outputId": "09653e2d-d8d0-49f9-a9bc-52a73111d693"
      },
      "execution_count": null,
      "outputs": [
        {
          "output_type": "stream",
          "name": "stdout",
          "text": [
            "{'a': 1, 'b': 2, 'c': 3}\n",
            "1\n"
          ]
        }
      ]
    },
    {
      "cell_type": "code",
      "source": [
        "# 딕셔너리 추가\n",
        "\n",
        "dict['d'] = 4\n",
        "print(dict)\n",
        "\n",
        "# 값 수정\n",
        "dict['d'] = 5\n",
        "\n",
        "# 값 수정2\n",
        "dict.update(a = 100)\n",
        "print(dict)"
      ],
      "metadata": {
        "colab": {
          "base_uri": "https://localhost:8080/"
        },
        "id": "-tG3yePoTpoQ",
        "outputId": "982434f0-b763-4b09-9088-ef6093adae03"
      },
      "execution_count": null,
      "outputs": [
        {
          "output_type": "stream",
          "name": "stdout",
          "text": [
            "{'a': 1, 'b': 2, 'c': 3, 'd': 4}\n",
            "{'a': 100, 'b': 2, 'c': 3, 'd': 5}\n"
          ]
        }
      ]
    },
    {
      "cell_type": "code",
      "source": [
        "# 딕셔너리 삭제\n",
        "\n",
        "#pop\n",
        "poped = dict.pop('a')\n",
        "print(poped)\n",
        "print(dict)\n",
        "\n",
        "#del\n",
        "del dict['d']\n",
        "print(dict)"
      ],
      "metadata": {
        "colab": {
          "base_uri": "https://localhost:8080/"
        },
        "id": "RL9IMyN-UMWM",
        "outputId": "5b50871c-3a5d-494a-9c2e-c81ef0619082"
      },
      "execution_count": null,
      "outputs": [
        {
          "output_type": "stream",
          "name": "stdout",
          "text": [
            "100\n",
            "{'b': 2, 'c': 3, 'd': 5}\n",
            "{'b': 2, 'c': 3}\n"
          ]
        }
      ]
    },
    {
      "cell_type": "markdown",
      "source": [
        "### mutable / immutable\n",
        "- mutable - 리스트, 세트, 딕셔너리\n",
        "- immutable - 정수, 실수, 문자열, 튜플"
      ],
      "metadata": {
        "id": "SOPNt3-kUzlO"
      }
    },
    {
      "cell_type": "code",
      "source": [
        "#mutable 할당 받은 메모리에 저장된 값을 다른 값으로 바꿀 수 있다."
      ],
      "metadata": {
        "id": "QSzz4fB8VBRq"
      },
      "execution_count": null,
      "outputs": []
    },
    {
      "cell_type": "code",
      "source": [
        "#값이 바뀌어도 메모리 주소가 변하지 않는 mutable\n",
        "a = [1,2,3]\n",
        "print(id(a))\n",
        "\n",
        "a.append(4)\n",
        "print(id(a))\n",
        "\n",
        "# 메모리 공유함\n",
        "\n",
        "aa = a\n",
        "print(id(aa))\n",
        "\n",
        "aa.append(4)\n",
        "print(aa)\n",
        "print(a)    #aa에 추가했는데도 메모리를 공유하기 때문에 a에도 영향을 줌"
      ],
      "metadata": {
        "colab": {
          "base_uri": "https://localhost:8080/"
        },
        "id": "GuecRhCdVHCW",
        "outputId": "73eb8fd2-20de-477c-e266-2ba3fa98806a"
      },
      "execution_count": null,
      "outputs": [
        {
          "output_type": "stream",
          "name": "stdout",
          "text": [
            "132165058909632\n",
            "132165058909632\n",
            "132165058909632\n",
            "[1, 2, 3, 4, 4]\n",
            "[1, 2, 3, 4, 4]\n"
          ]
        }
      ]
    },
    {
      "cell_type": "code",
      "source": [
        "#값이 바뀌면 메모리 주소도 바뀌는 immutable\n",
        "b = 1\n",
        "print(id(b))\n",
        "\n",
        "b += 1\n",
        "print(id(b))"
      ],
      "metadata": {
        "colab": {
          "base_uri": "https://localhost:8080/"
        },
        "id": "kI9I0ntQVWbk",
        "outputId": "898a67a0-0f14-4483-b1b6-283f95035b5c"
      },
      "execution_count": null,
      "outputs": [
        {
          "output_type": "stream",
          "name": "stdout",
          "text": [
            "132166343983344\n",
            "132166343983376\n"
          ]
        }
      ]
    },
    {
      "cell_type": "markdown",
      "source": [
        "### 문자열\n",
        "- 슬라이싱과 인덱스 등은 리스트와 중복되므로 예제코드로 대체\n",
        "- 문자열 함수\n",
        "- 문자열 포매팅"
      ],
      "metadata": {
        "id": "hOK2a3z2WJy9"
      }
    },
    {
      "cell_type": "code",
      "source": [
        "# 문자열 슬라이싱과 find\n",
        "# 이메일 주소 리스트에서 아이디만 추출하기\n",
        "\n",
        "#1. 각 요소의 @ 값 인덱스 찾기\n",
        "#2. @값을 변수에 저장하여\n",
        "#3. @까지만 슬라이싱으로 값 추출하기(슬라이싱검색에서 마지막 요소는 출력하지 않기 때문에 아이디만 뽑을 수 있다.)\n",
        "\n",
        "strList = [\"ugyung@gmail.com\",\"ugyungugyung@gmail.com\",\"hi@gmail.com\"]\n",
        "for i in strList:\n",
        "    vno = i.find(\"@\")   #@의 자리값 찾기\n",
        "    print(i[:vno])  #아이디만 추출 가능"
      ],
      "metadata": {
        "colab": {
          "base_uri": "https://localhost:8080/"
        },
        "id": "oLSyyikiWJSA",
        "outputId": "1b277dbb-1c94-4c16-f9e8-43fd4e8c488a"
      },
      "execution_count": null,
      "outputs": [
        {
          "output_type": "stream",
          "name": "stdout",
          "text": [
            "ugyung\n",
            "ugyungugyung\n",
            "hi\n"
          ]
        }
      ]
    },
    {
      "cell_type": "code",
      "source": [
        "#문자열 함수\n",
        "\n",
        "str = 'abc 123 '\n",
        "\n",
        "print(str.count('a'))\n",
        "print(str.capitalize()) #맨 앞자리만 대문자로\n",
        "print(str.upper())  #모든 문자 대문자로\n",
        "print(str.lower())  #모든 문자 소문자로\n",
        "print(str.strip())  #공백제거\n",
        "print(str.replace(' ',''))  #공백제거\n",
        "print(str.split())  #공백을 기준으로 문자열 나누기\n",
        "print(str.isalpha())    #문자열이 알파벳으로만 이루어졌는지 확인\n",
        "print(str.isdigit())    #문자열이 숫자로만 이루어졌는지 확인\n",
        "print(str.isalnum())    #문자열이 알파벳과 숫자로만 이루어졌는지 확인\n",
        "print(str.isupper())    #문자열이 대문자인지 확인\n",
        "print(str.islower())    #문자열이 소문자인지 확인\n",
        "print(str.startswith('a'))  #문자열이 a로 시작하는지 확인\n",
        "print(str.endswith('a'))    #문자열이 a로 끝나는지 확인\n",
        "print(str.join('abc'))  #문자열 사이에 abc를 삽입\n",
        "print(str.lstrip()) #왼쪽 공백 제거\n",
        "print(str.rstrip()) #오른쪽 공백 제거\n",
        "\n",
        "#replace 추가\n",
        "\n",
        "str1 = 'abc ABC abc'\n",
        "\n",
        "print(str1.replace('abc','d'))\n",
        "print(str.replace('abc','d',1))   #개수지정가능\n",
        "str1 = str1.replace('ABC','')  #제거도 가능\n",
        "print(str)"
      ],
      "metadata": {
        "colab": {
          "base_uri": "https://localhost:8080/"
        },
        "id": "FaNBD4rIYDBS",
        "outputId": "919bb360-de89-4ca1-e110-29bdb40c0f81"
      },
      "execution_count": null,
      "outputs": [
        {
          "output_type": "stream",
          "name": "stdout",
          "text": [
            "1\n",
            "Abc 123 \n",
            "ABC 123 \n",
            "abc 123 \n",
            "abc 123\n",
            "abc123\n",
            "['abc', '123']\n",
            "False\n",
            "False\n",
            "False\n",
            "False\n",
            "True\n",
            "True\n",
            "False\n",
            "aabc 123 babc 123 c\n",
            "abc 123 \n",
            "abc 123\n",
            "d ABC d\n",
            "d 123 \n",
            "abc 123 \n"
          ]
        }
      ]
    },
    {
      "cell_type": "code",
      "source": [
        "# 문자열 포매팅\n",
        "\n",
        "name = \"홍유경\"\n",
        "age = 20\n",
        "\n",
        "print(\"이름은 {}이고 나이는 {}입니다.\".format(name,age))\n",
        "print(\"이름은 {0}이고 나이는 {1}입니다.\".format(name,age))\n",
        "print(f\"이름은 {name}이고 나이는 {age}입니다.\")\n",
        "print(\"이름은 %s이고 나이는 %d입니다.\"%(name,age))\n",
        "print(\"이름은 %s이고 나이는 %d입니다.\"%(\"홍유경\",20))"
      ],
      "metadata": {
        "colab": {
          "base_uri": "https://localhost:8080/"
        },
        "id": "AZkWVx2KZrfu",
        "outputId": "004e4d15-22e2-4611-e474-df217b5e5d7e"
      },
      "execution_count": null,
      "outputs": [
        {
          "output_type": "stream",
          "name": "stdout",
          "text": [
            "이름은 홍유경이고 나이는 20입니다.\n",
            "이름은 홍유경이고 나이는 20입니다.\n",
            "이름은 홍유경이고 나이는 20입니다.\n",
            "이름은 홍유경이고 나이는 20입니다.\n",
            "이름은 홍유경이고 나이는 20입니다.\n"
          ]
        }
      ]
    },
    {
      "cell_type": "code",
      "source": [
        "# format 함수\n",
        "print(format(10000))\n",
        "print(format(10000,\"_\"))    #천단위 구분\n",
        "print(format(10000,\",\"))    #천단위 구분"
      ],
      "metadata": {
        "colab": {
          "base_uri": "https://localhost:8080/"
        },
        "id": "0vI0bBn3cuR9",
        "outputId": "bbf5ca76-e9e1-4204-b7e1-8f2be071d8ae"
      },
      "execution_count": null,
      "outputs": [
        {
          "output_type": "stream",
          "name": "stdout",
          "text": [
            "10000\n",
            "10_000\n",
            "10,000\n"
          ]
        }
      ]
    },
    {
      "cell_type": "code",
      "source": [
        "# ord   유니코드 값 반환\n",
        "print(ord(\"A\"))\n",
        "print(ord(\"a\"))\n",
        "\n",
        "# chr   해당 유니코드값의 문자를 반환\n",
        "print(chr(65))\n",
        "print(chr(97))"
      ],
      "metadata": {
        "colab": {
          "base_uri": "https://localhost:8080/"
        },
        "id": "YeL_idTjctxp",
        "outputId": "cbdcc05a-4da0-4208-a333-d04d43f194bf"
      },
      "execution_count": null,
      "outputs": [
        {
          "output_type": "stream",
          "name": "stdout",
          "text": [
            "65\n",
            "97\n",
            "A\n",
            "a\n"
          ]
        }
      ]
    },
    {
      "cell_type": "code",
      "source": [
        "# eval\n",
        "# 표현식을 문자열로 전달하여 결과값을 반환하는 함수\n",
        "\n",
        "print(eval('100+200'))\n",
        "print(eval('min(1,2,3)'))\n",
        "a = 10\n",
        "print(eval('a*5'))"
      ],
      "metadata": {
        "colab": {
          "base_uri": "https://localhost:8080/"
        },
        "id": "keV9-2vPdOQ7",
        "outputId": "6cc267ec-5e67-4bb2-c3bc-d9733b0d28ed"
      },
      "execution_count": null,
      "outputs": [
        {
          "output_type": "stream",
          "name": "stdout",
          "text": [
            "300\n",
            "1\n",
            "50\n"
          ]
        }
      ]
    },
    {
      "cell_type": "markdown",
      "source": [
        "### 그 외 함수\n",
        "- enumerate\n",
        "- zip\n",
        "- map"
      ],
      "metadata": {
        "id": "e5vJKC1Dc3-5"
      }
    },
    {
      "cell_type": "code",
      "source": [
        "# enumerate - 리스트의 요소와 인덱스를 함께 출력\n",
        "# enumerate 함수는 반복 가능한(iterable) 객체를 입력받아\n",
        "# 각 요소와 해당 요소의 인덱스를 포함하는 튜플을 반환\n",
        "# 주로 반복문에서 사용하여 인덱스와 요소를 함께 사용할 때 유용함\n",
        "\n",
        "fruits = ['apple', 'banana', 'cherry']\n",
        "for index, fruit in enumerate(fruits):\n",
        "    print(index, fruit)"
      ],
      "metadata": {
        "colab": {
          "base_uri": "https://localhost:8080/"
        },
        "id": "LHI7g3pZc3nd",
        "outputId": "2265813f-1242-4a82-f9ed-87d8de73715f"
      },
      "execution_count": null,
      "outputs": [
        {
          "output_type": "stream",
          "name": "stdout",
          "text": [
            "0 apple\n",
            "1 banana\n",
            "2 cherry\n"
          ]
        }
      ]
    },
    {
      "cell_type": "code",
      "source": [
        "# zip - 두 리스트의 요소를 묶어서 출력\n",
        "# 반복 가능한 객체들을 병렬로 묶어서 각 객체의 요소들을 튜플로 반환\n",
        "\n",
        "names = ['Alice', 'Bob', 'Charlie']\n",
        "ages = [25, 30, 35]\n",
        "for name, age in zip(names, ages):\n",
        "    print(f'{name} is {age} years old')"
      ],
      "metadata": {
        "colab": {
          "base_uri": "https://localhost:8080/"
        },
        "id": "bh9EMyNk6Us_",
        "outputId": "e0b6de70-9536-46e3-a2ee-c29b821b52f5"
      },
      "execution_count": null,
      "outputs": [
        {
          "output_type": "stream",
          "name": "stdout",
          "text": [
            "Alice is 25 years old\n",
            "Bob is 30 years old\n",
            "Charlie is 35 years old\n"
          ]
        }
      ]
    },
    {
      "cell_type": "code",
      "source": [
        "# map - 리스트의 모든 요소에 함수를 적용\n",
        "\n",
        "numbers = [1, 2, 3, 4, 5]\n",
        "squared = list(map(lambda x: x**2, numbers))\n",
        "print(squared)"
      ],
      "metadata": {
        "id": "RvQqsIm66tqh"
      },
      "execution_count": null,
      "outputs": []
    }
  ]
}