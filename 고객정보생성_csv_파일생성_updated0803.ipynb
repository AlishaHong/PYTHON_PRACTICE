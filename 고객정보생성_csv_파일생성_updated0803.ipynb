{
  "nbformat": 4,
  "nbformat_minor": 0,
  "metadata": {
    "colab": {
      "provenance": [],
      "authorship_tag": "ABX9TyOq9CjAohC6EUjktWgu0DxK",
      "include_colab_link": true
    },
    "kernelspec": {
      "name": "python3",
      "display_name": "Python 3"
    },
    "language_info": {
      "name": "python"
    }
  },
  "cells": [
    {
      "cell_type": "markdown",
      "metadata": {
        "id": "view-in-github",
        "colab_type": "text"
      },
      "source": [
        "<a href=\"https://colab.research.google.com/github/AlishaHong/PYTHON_PRACTICE/blob/main/%EA%B3%A0%EA%B0%9D%EC%A0%95%EB%B3%B4_csv_%ED%8C%8C%EC%9D%BC%EC%83%9D%EC%84%B1_updated0803.ipynb\" target=\"_parent\"><img src=\"https://colab.research.google.com/assets/colab-badge.svg\" alt=\"Open In Colab\"/></a>"
      ]
    },
    {
      "cell_type": "code",
      "source": [],
      "metadata": {
        "id": "qdXMkS6rTZfO"
      },
      "execution_count": null,
      "outputs": []
    },
    {
      "cell_type": "markdown",
      "source": [
        "\n",
        "##이름생성\n"
      ],
      "metadata": {
        "id": "CCTZuKy67wUs"
      }
    },
    {
      "cell_type": "code",
      "source": [],
      "metadata": {
        "id": "_S5noDE7AAeM"
      },
      "execution_count": null,
      "outputs": []
    },
    {
      "cell_type": "code",
      "execution_count": 10,
      "metadata": {
        "colab": {
          "base_uri": "https://localhost:8080/",
          "height": 36
        },
        "id": "Eoiveh5V7oGR",
        "outputId": "6d5e46b3-a52a-4c63-e7ef-2ccb0dcb8f71"
      },
      "outputs": [
        {
          "output_type": "execute_result",
          "data": {
            "text/plain": [
              "'이민준'"
            ],
            "application/vnd.google.colaboratory.intrinsic+json": {
              "type": "string"
            }
          },
          "metadata": {},
          "execution_count": 10
        }
      ],
      "source": [
        "import itertools\n",
        "import random\n",
        "import collections\n",
        "\n",
        "#csv파일 생성\n",
        "#김민준,kimmj,21,강남점,'010-1111-1111'\n",
        "#지점 = ['강남','서초','판교','도봉']\n",
        "#이름, id, 나이, 주로 가는 지점, 전화번호\n",
        "\n",
        "#이름 생성\n",
        "def nameSplit():\n",
        "    name1 = [\"김\",\"이\",\"박\",\"최\",\"정\"]\n",
        "    first_name = [\"민준\",\"지후\",\"지훈\",\"준서\",\"현우\",\"예준\"]\n",
        "    name2 = []\n",
        "    name3 = []\n",
        "\n",
        "    for name in first_name:\n",
        "        name2.append(name[0])\n",
        "        name3.append(name[1])\n",
        "\n",
        "    #중복제거\n",
        "    name2 = list(set(name2))\n",
        "    name3 = list(set(name3))\n",
        "\n",
        "    return name1,name2,name3\n",
        "\n",
        "\n",
        "#itertools.product 로 이름 생성하는 함수\n",
        "def generateName(name1,name2,name3):\n",
        "    producted_name = list(itertools.product(name1,name2,name3))\n",
        "    #문자열로 변경 + name2와 3이 중복된것은 제외\n",
        "    names = [''.join(name) for name in producted_name if name[1] != name[2]]\n",
        "    random.shuffle(names)     #섞어서 출력하고 싶을때\n",
        "    return names    #정해진 갯수만큼만 출력하기\n",
        "\n",
        "\n",
        "def getName1():\n",
        "    name1,name2,name3 = nameSplit()\n",
        "    return generateName(name1,name2,name3)[0]\n",
        "\n",
        "\n",
        "getName1()"
      ]
    },
    {
      "cell_type": "markdown",
      "source": [
        "##아이디생성"
      ],
      "metadata": {
        "id": "cWvqi-XU7zUW"
      }
    },
    {
      "cell_type": "code",
      "source": [
        "#아이디생성\n",
        "\n",
        "#문자열 5개를 랜덤으로 추출한다.\n",
        "import random\n",
        "\n",
        "def get_id():\n",
        "    # customer_id = []\n",
        "    string = \"abcdefghijklmnopqrstuvwxyz\"\n",
        "\n",
        "\n",
        "        #자릿수도 매번 달라지도록 for문에 넣었음\n",
        "    digit = random.randint(4,10)\n",
        "    random_num = random.randint(0,2000)\n",
        "    random_id = random.sample(string,digit)\n",
        "    result = ''.join(random_id) + str(random_num)\n",
        "    # customer_id.append(result)\n",
        "\n",
        "    # return customer_id\n",
        "    return result\n",
        "    # print(len(customer_id))\n",
        "\n",
        "get_id()"
      ],
      "metadata": {
        "colab": {
          "base_uri": "https://localhost:8080/",
          "height": 36
        },
        "id": "ZO0Q8-Xl7uHc",
        "outputId": "d134c025-0fd4-49ea-a6ed-ee37a9bc5ed6"
      },
      "execution_count": 29,
      "outputs": [
        {
          "output_type": "execute_result",
          "data": {
            "text/plain": [
              "'wnqt99'"
            ],
            "application/vnd.google.colaboratory.intrinsic+json": {
              "type": "string"
            }
          },
          "metadata": {},
          "execution_count": 29
        }
      ]
    },
    {
      "cell_type": "markdown",
      "source": [
        "##선호하는 지점"
      ],
      "metadata": {
        "id": "d2NGOcOB73k_"
      }
    },
    {
      "cell_type": "code",
      "source": [
        "#선호하는 지점 선택\n",
        "\n",
        "def get_cafe():\n",
        "    # favorite_cafe = []\n",
        "    cafe_sesac = ['강남','서초','금천','양재','송파','인천','잠실','도봉','왕십리','동대문','부산','대구','안산','홍대']\n",
        "\n",
        "    cafe = random.choice(cafe_sesac)\n",
        "    # favorite_cafe.append(cafe)\n",
        "\n",
        "    # return favorite_cafe\n",
        "    return cafe\n",
        "\n",
        "get_cafe()"
      ],
      "metadata": {
        "colab": {
          "base_uri": "https://localhost:8080/",
          "height": 36
        },
        "id": "d_GhdpVO78Lc",
        "outputId": "0fdc86bb-8086-4727-fba5-03cf48580ef6"
      },
      "execution_count": 28,
      "outputs": [
        {
          "output_type": "execute_result",
          "data": {
            "text/plain": [
              "'홍대'"
            ],
            "application/vnd.google.colaboratory.intrinsic+json": {
              "type": "string"
            }
          },
          "metadata": {},
          "execution_count": 28
        }
      ]
    },
    {
      "cell_type": "markdown",
      "source": [
        "##나이"
      ],
      "metadata": {
        "id": "77lpySod7-N5"
      }
    },
    {
      "cell_type": "code",
      "source": [
        "#나이\n",
        "#가중치 필요\n",
        "#15세~75세\n",
        "\n",
        "def get_age():\n",
        "    # customer_age = 0\n",
        "\n",
        "    age_group = [(10,19),(20,29),(30,39),(40,49),(50,59),(60,69),(70,79)]\n",
        "    weight = [0.05,0.2,0.3,0.23,0.1,0.07,0.05]\n",
        "\n",
        "    generation = random.choices(age_group,weights = weight)[0]\n",
        "    # print(generation)\n",
        "    age = random.randint(generation[0],generation[1])\n",
        "    # customer_age.append(age2)\n",
        "    return age\n",
        "    # print(len(customer_age))\n",
        "\n",
        "    #가중치 적용 확인코드\n",
        "    count=[]\n",
        "    for i in range(7):\n",
        "        count.append(0)\n",
        "\n",
        "    for age in customer_age:\n",
        "        if age >= 10 and age <= 19:\n",
        "            count[0]+=1\n",
        "        elif age >= 20 and age <= 29:\n",
        "            count[1]+=1\n",
        "        elif age >= 30 and age <= 39:\n",
        "            count[2]+=1\n",
        "        elif age >= 40 and age <= 49:\n",
        "            count[3]+=1\n",
        "        elif age >= 50 and age <= 59:\n",
        "            count[4]+=1\n",
        "        elif age >= 60 and age <= 69:\n",
        "            count[5]+=1\n",
        "        else:\n",
        "            count[6]+=1\n",
        "\n",
        "\n",
        "\n",
        "get_age()"
      ],
      "metadata": {
        "colab": {
          "base_uri": "https://localhost:8080/"
        },
        "id": "wwGMzTDA8Av7",
        "outputId": "76988a4c-b184-49d2-e965-b9d9e5eb7a16"
      },
      "execution_count": 26,
      "outputs": [
        {
          "output_type": "execute_result",
          "data": {
            "text/plain": [
              "31"
            ]
          },
          "metadata": {},
          "execution_count": 26
        }
      ]
    },
    {
      "cell_type": "code",
      "source": [
        "import random\n",
        "import matplotlib.pyplot as plt\n",
        "\n",
        "def get_age(num_samples = 1000):\n",
        "    customer_age = []\n",
        "\n",
        "    age_group = [(10, 19), (20, 29), (30, 39), (40, 49), (50, 59), (60, 69), (70, 79)]\n",
        "    weight = [0.05, 0.2, 0.3, 0.23, 0.1, 0.07, 0.05]\n",
        "\n",
        "    for _ in range(num_samples):\n",
        "        generation = random.choices(age_group, weights=weight)[0]\n",
        "        age = random.randint(generation[0], generation[1])\n",
        "        customer_age.append(age)\n",
        "\n",
        "    return customer_age\n",
        "\n",
        "# 샘플 생성\n",
        "ages = get_age(100)\n",
        "\n",
        "# 가중치 적용 확인코드\n",
        "count = [0] * 7\n",
        "age_groups = [(10, 19), (20, 29), (30, 39), (40, 49), (50, 59), (60, 69), (70, 79)]\n",
        "\n",
        "for age in ages:\n",
        "    for i, (start, end) in enumerate(age_groups):\n",
        "        if start <= age <= end:\n",
        "            count[i] += 1\n",
        "            break\n",
        "\n",
        "# 각 연령대별 샘플 수 출력\n",
        "for i, (start, end) in enumerate(age_groups):\n",
        "    print(f\"Age {start}-{end}: {count[i]} samples\")\n",
        "\n",
        "# 히스토그램으로 시각화\n",
        "plt.hist(ages, bins=range(10, 80), edgecolor='black', alpha=0.7)\n",
        "plt.title('Age Distribution with Weights')\n",
        "plt.xlabel('Age')\n",
        "plt.ylabel('Number of Samples')\n",
        "plt.show()"
      ],
      "metadata": {
        "colab": {
          "base_uri": "https://localhost:8080/",
          "height": 603
        },
        "id": "9koYyoCJNrNN",
        "outputId": "81472b53-a8c0-492b-a121-6af0c645b8ab"
      },
      "execution_count": 32,
      "outputs": [
        {
          "output_type": "stream",
          "name": "stdout",
          "text": [
            "Age 10-19: 2 samples\n",
            "Age 20-29: 13 samples\n",
            "Age 30-39: 34 samples\n",
            "Age 40-49: 26 samples\n",
            "Age 50-59: 11 samples\n",
            "Age 60-69: 8 samples\n",
            "Age 70-79: 6 samples\n"
          ]
        },
        {
          "output_type": "display_data",
          "data": {
            "text/plain": [
              "<Figure size 640x480 with 1 Axes>"
            ],
            "image/png": "[encoded data removed]"
          },
          "metadata": {}
        }
      ]
    },
    {
      "cell_type": "markdown",
      "source": [
        "##전화번호생성"
      ],
      "metadata": {
        "id": "Q53I5JVf8Ejy"
      }
    },
    {
      "cell_type": "code",
      "source": [
        "#전화번호생성\n",
        "\n",
        "# 010-1234-5567\n",
        "\n",
        "def get_phone_number():\n",
        "\n",
        "    numbers = '1234567890'\n",
        "    customer_number = \"\"\n",
        "\n",
        "    num1 = ''.join(random.sample(numbers,4))\n",
        "    num2 = ''.join(random.sample(numbers,4))\n",
        "\n",
        "    phone_number = f'010-{num1}-{num2}'\n",
        "    customer_number=phone_number\n",
        "\n",
        "    return customer_number\n",
        "\n",
        "get_phone_number()"
      ],
      "metadata": {
        "colab": {
          "base_uri": "https://localhost:8080/",
          "height": 36
        },
        "id": "O5PCnpK28ISW",
        "outputId": "f30e7166-393e-4908-90c3-ff89e4ddb3f9"
      },
      "execution_count": 16,
      "outputs": [
        {
          "output_type": "execute_result",
          "data": {
            "text/plain": [
              "'010-3624-2640'"
            ],
            "application/vnd.google.colaboratory.intrinsic+json": {
              "type": "string"
            }
          },
          "metadata": {},
          "execution_count": 16
        }
      ]
    },
    {
      "cell_type": "markdown",
      "source": [
        "##데이터프레임 및 csv파일 생성"
      ],
      "metadata": {
        "id": "mkPHvMc78NrK"
      }
    },
    {
      "cell_type": "code",
      "source": [
        "import pandas as pd\n",
        "import os\n",
        "\n",
        "user_infos = []\n",
        "customer_age = []\n",
        "for k in range(100):\n",
        "    name = getName1()\n",
        "    member_ID = get_id()\n",
        "    cafe = get_cafe()\n",
        "    age = get_age()\n",
        "    customer_age.append(age)\n",
        "    phone_number = get_phone_number()\n",
        "\n",
        "    user_infos.append([name, member_ID, cafe, age, phone_number])\n",
        "\n",
        "\n",
        "\n",
        "\n",
        "#  get_age 함수에서 정수 1개씩만 반환하게 함수를 수정했더니 가중치가 적용이 된건지 알수 없어서\n",
        "# 한번 더 확인함\n",
        "count=[]\n",
        "for i in range(7):\n",
        "    count.append(0)\n",
        "\n",
        "count = [0] * 7\n",
        "age_groups = [(10, 19), (20, 29), (30, 39), (40, 49), (50, 59), (60, 69), (70, 79)]\n",
        "\n",
        "for age in customer_age:\n",
        "    for i, (start, end) in enumerate(age_groups):\n",
        "        if start <= age <= end:\n",
        "            count[i] += 1\n",
        "            break\n",
        "print(customer_age)\n",
        "# 각 연령대별 샘플 수 출력\n",
        "for i, (start, end) in enumerate(age_groups):\n",
        "    print(f\"Age {start}-{end}: {count[i]} samples\")\n",
        "\n",
        "\n",
        "columns_name = ['이름', '회원ID', '선호지점','나이','휴대폰번호']\n",
        "df = pd.DataFrame(user_infos, columns = columns_name)\n",
        "df.index = df.index+1\n",
        "print(df)\n",
        "\n",
        "print(os.getcwd())\n",
        "df.to_csv(\"user.csv\")"
      ],
      "metadata": {
        "colab": {
          "base_uri": "https://localhost:8080/"
        },
        "id": "swaNf-nL8M_Q",
        "outputId": "8a294579-1191-4f74-a070-d216dc73760b"
      },
      "execution_count": 31,
      "outputs": [
        {
          "output_type": "stream",
          "name": "stdout",
          "text": [
            "[43, 39, 30, 24, 38, 40, 31, 52, 65, 21, 53, 43, 32, 48, 42, 61, 38, 33, 67, 70, 46, 24, 21, 37, 33, 32, 35, 31, 39, 46, 30, 41, 65, 50, 30, 39, 46, 34, 38, 51, 38, 42, 73, 70, 39, 51, 31, 26, 34, 41, 30, 69, 21, 64, 32, 35, 42, 36, 40, 37, 45, 49, 32, 61, 34, 26, 46, 42, 35, 24, 34, 47, 29, 53, 57, 53, 34, 58, 39, 77, 25, 31, 39, 77, 42, 42, 60, 30, 21, 67, 11, 63, 34, 42, 21, 47, 61, 43, 49, 21]\n",
            "Age 10-19: 1 samples\n",
            "Age 20-29: 13 samples\n",
            "Age 30-39: 37 samples\n",
            "Age 40-49: 24 samples\n",
            "Age 50-59: 9 samples\n",
            "Age 60-69: 11 samples\n",
            "Age 70-79: 5 samples\n",
            "      이름            회원ID 선호지점  나이          휴대폰번호\n",
            "1    정현우        wvml1383   홍대  43  010-4781-4629\n",
            "2    이지후        sbgu1310   홍대  39  010-1567-5497\n",
            "3    최예우      wusybt1319   강남  30  010-5134-7045\n",
            "4    박현훈     dqlzekut565   부산  24  010-5074-7529\n",
            "5    이준우      gkaxouc134   대구  38  010-0976-0257\n",
            "..   ...             ...  ...  ..            ...\n",
            "96   정지훈      szpwtlu352   양재  47  010-2375-6981\n",
            "97   최현훈  vayjpozdbg1454   도봉  61  010-3062-4659\n",
            "98   최현서   kmhceywuv1224  왕십리  43  010-3460-9527\n",
            "99   최민준     jvkdpowi247   안산  49  010-5832-8620\n",
            "100  최현훈         lvid598  동대문  21  010-7218-5031\n",
            "\n",
            "[100 rows x 5 columns]\n",
            "/content\n"
          ]
        }
      ]
    },
    {
      "cell_type": "markdown",
      "source": [
        "##생성된 파일 삭제"
      ],
      "metadata": {
        "id": "xbYmMnX78R76"
      }
    },
    {
      "cell_type": "code",
      "source": [
        "os.remove(\"user.csv\")\n"
      ],
      "metadata": {
        "id": "C1ztOAnY8V9E"
      },
      "execution_count": null,
      "outputs": []
    }
  ]
}
